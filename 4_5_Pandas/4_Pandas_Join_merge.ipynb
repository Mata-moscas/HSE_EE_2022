{
 "cells": [
  {
   "cell_type": "markdown",
   "metadata": {},
   "source": [
    "# Python для анализа данных\n",
    "\n",
    "## Pandas (join и merge)\n",
    "\n",
    "*Ян Пиле, НИУ ВШЭ*"
   ]
  },
  {
   "cell_type": "markdown",
   "metadata": {},
   "source": [
    "Давайте представим, что мы аналитики в компании, которая производит и продает скрепки. Нам нужно составить несколько отчетов для отдела продаж, чтобы посмотреть, как у них дела. Данные лежат в следующих словарях:"
   ]
  },
  {
   "cell_type": "code",
   "execution_count": 3,
   "metadata": {},
   "outputs": [],
   "source": [
    "import numpy as np\n",
    "import pandas as pd\n",
    "# Dataframe of number of sales made by an employee\n",
    "sales = {'Tony': 103,\n",
    "         'Sally': 202,\n",
    "         'Randy': 380,\n",
    "         'Ellen': 101,\n",
    "         'Fred': 82\n",
    "        }\n",
    "# Dataframe of all employees and the region they work in\n",
    "region = {'Tony': 'West',\n",
    "          'Sally': 'South',\n",
    "          'Carl': 'West',\n",
    "          'Archie': 'North',\n",
    "          'Randy': 'East',\n",
    "          'Ellen': 'South',\n",
    "          'Fred': np.nan,\n",
    "          'Mo': 'East',\n",
    "          'HanWei': np.nan,\n",
    "         }"
   ]
  },
  {
   "cell_type": "markdown",
   "metadata": {},
   "source": [
    "Мы можем создать два отдельных dataframe из словарей "
   ]
  },
  {
   "cell_type": "code",
   "execution_count": 4,
   "metadata": {},
   "outputs": [],
   "source": [
    "# Make dataframes\n",
    "sales_df = pd.DataFrame.from_dict(sales, orient='index', \n",
    "                                  columns=['sales'])\n",
    "region_df = pd.DataFrame.from_dict(region, orient='index', \n",
    "                                   columns=['region'])"
   ]
  },
  {
   "cell_type": "code",
   "execution_count": 5,
   "metadata": {},
   "outputs": [
    {
     "data": {
      "text/html": [
       "<div>\n",
       "<style scoped>\n",
       "    .dataframe tbody tr th:only-of-type {\n",
       "        vertical-align: middle;\n",
       "    }\n",
       "\n",
       "    .dataframe tbody tr th {\n",
       "        vertical-align: top;\n",
       "    }\n",
       "\n",
       "    .dataframe thead th {\n",
       "        text-align: right;\n",
       "    }\n",
       "</style>\n",
       "<table border=\"1\" class=\"dataframe\">\n",
       "  <thead>\n",
       "    <tr style=\"text-align: right;\">\n",
       "      <th></th>\n",
       "      <th>sales</th>\n",
       "    </tr>\n",
       "  </thead>\n",
       "  <tbody>\n",
       "    <tr>\n",
       "      <th>Tony</th>\n",
       "      <td>103</td>\n",
       "    </tr>\n",
       "    <tr>\n",
       "      <th>Randy</th>\n",
       "      <td>380</td>\n",
       "    </tr>\n",
       "    <tr>\n",
       "      <th>Sally</th>\n",
       "      <td>202</td>\n",
       "    </tr>\n",
       "    <tr>\n",
       "      <th>Ellen</th>\n",
       "      <td>101</td>\n",
       "    </tr>\n",
       "    <tr>\n",
       "      <th>Fred</th>\n",
       "      <td>82</td>\n",
       "    </tr>\n",
       "  </tbody>\n",
       "</table>\n",
       "</div>"
      ],
      "text/plain": [
       "       sales\n",
       "Tony     103\n",
       "Randy    380\n",
       "Sally    202\n",
       "Ellen    101\n",
       "Fred      82"
      ]
     },
     "execution_count": 5,
     "metadata": {},
     "output_type": "execute_result"
    }
   ],
   "source": [
    "sales_df"
   ]
  },
  {
   "cell_type": "code",
   "execution_count": 6,
   "metadata": {},
   "outputs": [
    {
     "data": {
      "text/html": [
       "<div>\n",
       "<style scoped>\n",
       "    .dataframe tbody tr th:only-of-type {\n",
       "        vertical-align: middle;\n",
       "    }\n",
       "\n",
       "    .dataframe tbody tr th {\n",
       "        vertical-align: top;\n",
       "    }\n",
       "\n",
       "    .dataframe thead th {\n",
       "        text-align: right;\n",
       "    }\n",
       "</style>\n",
       "<table border=\"1\" class=\"dataframe\">\n",
       "  <thead>\n",
       "    <tr style=\"text-align: right;\">\n",
       "      <th></th>\n",
       "      <th>region</th>\n",
       "    </tr>\n",
       "  </thead>\n",
       "  <tbody>\n",
       "    <tr>\n",
       "      <th>Archie</th>\n",
       "      <td>North</td>\n",
       "    </tr>\n",
       "    <tr>\n",
       "      <th>HanWei</th>\n",
       "      <td>NaN</td>\n",
       "    </tr>\n",
       "    <tr>\n",
       "      <th>Randy</th>\n",
       "      <td>East</td>\n",
       "    </tr>\n",
       "    <tr>\n",
       "      <th>Ellen</th>\n",
       "      <td>South</td>\n",
       "    </tr>\n",
       "    <tr>\n",
       "      <th>Carl</th>\n",
       "      <td>West</td>\n",
       "    </tr>\n",
       "    <tr>\n",
       "      <th>Tony</th>\n",
       "      <td>West</td>\n",
       "    </tr>\n",
       "    <tr>\n",
       "      <th>Mo</th>\n",
       "      <td>East</td>\n",
       "    </tr>\n",
       "    <tr>\n",
       "      <th>Sally</th>\n",
       "      <td>South</td>\n",
       "    </tr>\n",
       "    <tr>\n",
       "      <th>Fred</th>\n",
       "      <td>NaN</td>\n",
       "    </tr>\n",
       "  </tbody>\n",
       "</table>\n",
       "</div>"
      ],
      "text/plain": [
       "       region\n",
       "Archie  North\n",
       "HanWei    NaN\n",
       "Randy    East\n",
       "Ellen   South\n",
       "Carl     West\n",
       "Tony     West\n",
       "Mo       East\n",
       "Sally   South\n",
       "Fred      NaN"
      ]
     },
     "execution_count": 6,
     "metadata": {},
     "output_type": "execute_result"
    }
   ],
   "source": [
    "region_df"
   ]
  },
  {
   "cell_type": "markdown",
   "metadata": {},
   "source": [
    "Теперь давайте объединим все наши данные в один Датафрейм. Но как нам это сделать?\n",
    "Датафреймы Pandas имеют много SQL-подобных функций. Иногда не до конца понятно, использовать join или merge. Их часто используют взаимозаменяемо (выбирая то, что пришло в голову первым). Так когда же мы должны использовать каждый из этих методов, и насколько точно они отличаются друг от друга? Попробуем разобраться."
   ]
  },
  {
   "cell_type": "markdown",
   "metadata": {},
   "source": [
    "### Join\n",
    "Давайте начнем с join, потому что он самый простой. У датафреймов данных есть параметр index. Это ключ вашей таблицы, и если мы знаем индекс, то мы можем легко получить строку, содержащую наши данные, используя .loc. Если вы напечатаете свой датафрейм, вы увидите индекс в крайнем левом столбце. Еще его можно получить, напрямую использовав .index:"
   ]
  },
  {
   "cell_type": "code",
   "execution_count": 7,
   "metadata": {},
   "outputs": [
    {
     "data": {
      "text/plain": [
       "Index([u'Tony', u'Randy', u'Sally', u'Ellen', u'Fred'], dtype='object')"
      ]
     },
     "execution_count": 7,
     "metadata": {},
     "output_type": "execute_result"
    }
   ],
   "source": [
    "sales_df.index"
   ]
  },
  {
   "cell_type": "markdown",
   "metadata": {},
   "source": [
    "Значит индекс в sales_df - это имя продавца. Кстати, в отличие от первичного ключа таблицы SQL, индекс датафрейма не обязательно должен быть уникальным. Но уникальный индекс делает нашу жизнь проще, а время, необходимое для поиска в нашем датафрейме, короче. Учитывая индекс, мы можем найти данные строки так:"
   ]
  },
  {
   "cell_type": "code",
   "execution_count": 8,
   "metadata": {},
   "outputs": [
    {
     "data": {
      "text/plain": [
       "sales    103\n",
       "Name: Tony, dtype: int64"
      ]
     },
     "execution_count": 8,
     "metadata": {},
     "output_type": "execute_result"
    }
   ],
   "source": [
    "sales_df.loc['Tony']"
   ]
  },
  {
   "cell_type": "markdown",
   "metadata": {},
   "source": [
    "Вернемся к join'ам. Метод join берет два датафрейма и соединяет их по индексам (технически вы можете выбрать столбец для объединения для левого датафрейма). Давайте посмотрим, что происходит, если мы объединим(aka сджойним) наши два датафрейма с помощью метода join:"
   ]
  },
  {
   "cell_type": "code",
   "execution_count": 9,
   "metadata": {},
   "outputs": [
    {
     "name": "stdout",
     "output_type": "stream",
     "text": [
      "       region  sales\n",
      "Archie  North    NaN\n",
      "HanWei    NaN    NaN\n",
      "Randy    East  380.0\n",
      "Ellen   South  101.0\n",
      "Carl     West    NaN\n",
      "Tony     West  103.0\n",
      "Mo       East    NaN\n",
      "Sally   South  202.0\n",
      "Fred      NaN   82.0\n"
     ]
    }
   ],
   "source": [
    "joined_df = region_df.join(sales_df, how='left')\n",
    "print(joined_df)"
   ]
  },
  {
   "cell_type": "markdown",
   "metadata": {},
   "source": [
    "Результат выглядит как результат SQL-join'a (по сути, это почти то же самое). \n",
    "\n",
    "Метод join использует индекс или указанный столбец из левого датафрейма в качестве ключа джойна. Таким образом, столбец, по которому мы джойним левый датафрейм, не обязательно должен быть его индексом. Но вот для правильного датафрейма ключ джойна должен быть его индексом ОБЯЗАТЕЛЬНО. \n",
    "\n",
    "Лично мне проще воспринимать метод join как объединение на основе индекса и использовать merge, если не хочется привязываться к индексам.\n",
    "\n",
    "В объединенном датафрейме есть несколько NaN. Так произошло , потому что не у всех сотрудников были продажи. Те, у кого не было продаж, отсутствуют в sales_df, но мы по-прежнему отображаем их, потому что мы выполнили left join (указав «how = left»), которое возвращает все строки из левого датафрейма region_df, независимо от того, есть ли совпадение в правом. Если мы не хотим отображать какие-либо NaN в нашем результате соединения, мы вместо этого можем сделать inner join (указав «how = inner»)."
   ]
  },
  {
   "cell_type": "markdown",
   "metadata": {},
   "source": [
    "### Merge\n",
    "\n",
    "На базовом уровне Merge делает более или менее то же самое, что и join. Оба метода используются для объединения двух датафреймов, но merge является более универсальным за счет более подробного описания входных данных. Давайте посмотрим, как мы можем создать тот же обхединенный датафрейм с помощью merge:"
   ]
  },
  {
   "cell_type": "code",
   "execution_count": 10,
   "metadata": {},
   "outputs": [
    {
     "name": "stdout",
     "output_type": "stream",
     "text": [
      "       region  sales\n",
      "Archie  North    NaN\n",
      "HanWei    NaN    NaN\n",
      "Randy    East  380.0\n",
      "Ellen   South  101.0\n",
      "Carl     West    NaN\n",
      "Tony     West  103.0\n",
      "Mo       East    NaN\n",
      "Sally   South  202.0\n",
      "Fred      NaN   82.0\n"
     ]
    }
   ],
   "source": [
    "joined_df_merge = region_df.merge(sales_df, how='left', \n",
    "                                      left_index=True,\n",
    "                                      right_index=True)\n",
    "print(joined_df_merge)"
   ]
  },
  {
   "cell_type": "markdown",
   "metadata": {},
   "source": [
    "Merge полезен, когда мы не хотим привязываться к индексам. Скажем, мы хотим знать, сколько, в процентном отношении,  каждый сотрудник внес в продажи в своем регионе. Мы можем использовать groupby для суммирования всех продаж в каждом уникальном регионе. В приведенном ниже коде reset_index используется, чтобы превратить регион из индекса в обычную колонку."
   ]
  },
  {
   "cell_type": "code",
   "execution_count": 11,
   "metadata": {},
   "outputs": [
    {
     "name": "stdout",
     "output_type": "stream",
     "text": [
      "  region  sales\n",
      "0   East  380.0\n",
      "1  North    0.0\n",
      "2  South  303.0\n",
      "3   West  103.0\n"
     ]
    }
   ],
   "source": [
    "grouped_df = joined_df_merge.groupby(by='region').sum()\n",
    "grouped_df.reset_index(inplace=True)\n",
    "print(grouped_df)"
   ]
  },
  {
   "cell_type": "markdown",
   "metadata": {},
   "source": [
    "Теперь остается смержить join_df_merge с grouped_df, используя столбец region. Мы должны указать суффикс, потому что оба наших блока данных (которые мы объединяем) содержат столбец с названием sales. Входные суффиксы добавляют указанные строки к меткам столбцов с одинаковыми именами в обоих датафреймах (это удобно, потому что ничего не перепутается). В нашем случае, поскольку столбец продаж второго датафрейма фактически отражает продажи во всем регионе, мы можем добавить суффикс «_region»."
   ]
  },
  {
   "cell_type": "code",
   "execution_count": 12,
   "metadata": {},
   "outputs": [
    {
     "name": "stdout",
     "output_type": "stream",
     "text": [
      "  region  sales  sales_region\n",
      "0  North    NaN           0.0\n",
      "1    NaN    NaN           NaN\n",
      "2   East  380.0         380.0\n",
      "3  South  101.0         303.0\n",
      "4   West    NaN         103.0\n",
      "5   West  103.0         103.0\n",
      "6   East    NaN         380.0\n",
      "7  South  202.0         303.0\n",
      "8    NaN   82.0           NaN\n"
     ]
    }
   ],
   "source": [
    "employee_contrib = joined_df_merge.merge(grouped_df, how='left', \n",
    "                                         left_on='region', \n",
    "                                         right_on='region',\n",
    "                                         suffixes=('','_region'))\n",
    "print(employee_contrib)"
   ]
  },
  {
   "cell_type": "markdown",
   "metadata": {},
   "source": [
    "ЭЭЭЭЭ, куда индекс исчез? "
   ]
  },
  {
   "cell_type": "markdown",
   "metadata": {},
   "source": [
    "Используем set_index, чтобы вернуть его! (иначе мы не узнаем, какому сотруднику соответствует какая строка):"
   ]
  },
  {
   "cell_type": "code",
   "execution_count": 13,
   "metadata": {},
   "outputs": [
    {
     "name": "stdout",
     "output_type": "stream",
     "text": [
      "       region  sales  sales_region\n",
      "Archie  North    NaN           0.0\n",
      "HanWei    NaN    NaN           NaN\n",
      "Randy    East  380.0         380.0\n",
      "Ellen   South  101.0         303.0\n",
      "Carl     West    NaN         103.0\n",
      "Tony     West  103.0         103.0\n",
      "Mo       East    NaN         380.0\n",
      "Sally   South  202.0         303.0\n",
      "Fred      NaN   82.0           NaN\n"
     ]
    }
   ],
   "source": [
    "employee_contrib = employee_contrib.set_index(joined_df_merge.index)\n",
    "print(employee_contrib)"
   ]
  },
  {
   "cell_type": "markdown",
   "metadata": {},
   "source": [
    "Теперь у нас есть исходный столбец продаж и новый столбец sales_region, в котором указывается общий объем продаж в регионе. Давайте посчитаем процент продаж каждого сотрудника, а затем очистим наш датафрейм, отбросив наблюдения, без региона (Fred и HanWei), и заполняя NaN в столбце продаж нулями."
   ]
  },
  {
   "cell_type": "code",
   "execution_count": 14,
   "metadata": {},
   "outputs": [
    {
     "name": "stdout",
     "output_type": "stream",
     "text": [
      "       region  sales  %_of_sales\n",
      "Mo       East    0.0    0.000000\n",
      "Randy    East  380.0    1.000000\n",
      "Archie  North    0.0         NaN\n",
      "Ellen   South  101.0    0.333333\n",
      "Sally   South  202.0    0.666667\n",
      "Carl     West    0.0    0.000000\n",
      "Tony     West  103.0    1.000000\n"
     ]
    }
   ],
   "source": [
    "# Drop NAs in region column\n",
    "employee_contrib = employee_contrib.dropna(subset=['region'])\n",
    "\n",
    "# Fill NAs in sales column with 0\n",
    "employee_contrib = employee_contrib.fillna({'sales': 0})\n",
    "\n",
    "employee_contrib['%_of_sales'] = employee_contrib['sales']/employee_contrib['sales_region']\n",
    "\n",
    "print(employee_contrib[['region','sales','%_of_sales']].sort_values(by=['region','%_of_sales']))"
   ]
  },
  {
   "cell_type": "code",
   "execution_count": null,
   "metadata": {},
   "outputs": [],
   "source": []
  }
 ],
 "metadata": {
  "kernelspec": {
   "display_name": "Python 3 (ipykernel)",
   "language": "python",
   "name": "python3"
  },
  "language_info": {
   "codemirror_mode": {
    "name": "ipython",
    "version": 3
   },
   "file_extension": ".py",
   "mimetype": "text/x-python",
   "name": "python",
   "nbconvert_exporter": "python",
   "pygments_lexer": "ipython3",
   "version": "3.9.9"
  }
 },
 "nbformat": 4,
 "nbformat_minor": 2
}
