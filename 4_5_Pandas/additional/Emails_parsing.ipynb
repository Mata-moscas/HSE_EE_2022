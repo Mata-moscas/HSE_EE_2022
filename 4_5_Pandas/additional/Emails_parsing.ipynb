{
 "cells": [
  {
   "cell_type": "markdown",
   "metadata": {},
   "source": [
    "Рогович Татьяна\n",
    "\n",
    "# Анализ данных  в Python (политология)\n",
    "## 1. Разбираем кейс с парсингом email в плохо собранных данных\n",
    "##### Занятия 9-10 | 16.10.2019"
   ]
  },
  {
   "cell_type": "code",
   "execution_count": 2,
   "metadata": {},
   "outputs": [],
   "source": [
    "import pandas as pd\n",
    "import re"
   ]
  },
  {
   "cell_type": "code",
   "execution_count": 3,
   "metadata": {},
   "outputs": [
    {
     "data": {
      "text/html": [
       "<div>\n",
       "<style scoped>\n",
       "    .dataframe tbody tr th:only-of-type {\n",
       "        vertical-align: middle;\n",
       "    }\n",
       "\n",
       "    .dataframe tbody tr th {\n",
       "        vertical-align: top;\n",
       "    }\n",
       "\n",
       "    .dataframe thead th {\n",
       "        text-align: right;\n",
       "    }\n",
       "</style>\n",
       "<table border=\"1\" class=\"dataframe\">\n",
       "  <thead>\n",
       "    <tr style=\"text-align: right;\">\n",
       "      <th></th>\n",
       "      <th>01. Имя</th>\n",
       "      <th>8. Личные контакты</th>\n",
       "    </tr>\n",
       "  </thead>\n",
       "  <tbody>\n",
       "    <tr>\n",
       "      <th>0</th>\n",
       "      <td>Елизавета</td>\n",
       "      <td>NaN</td>\n",
       "    </tr>\n",
       "    <tr>\n",
       "      <th>1</th>\n",
       "      <td>Екатерина</td>\n",
       "      <td>mail2@edu.hse.ru</td>\n",
       "    </tr>\n",
       "    <tr>\n",
       "      <th>2</th>\n",
       "      <td>Рената</td>\n",
       "      <td>+7915472999 kdfbnd-1998@mail.ru</td>\n",
       "    </tr>\n",
       "    <tr>\n",
       "      <th>3</th>\n",
       "      <td>Полина</td>\n",
       "      <td>NaN</td>\n",
       "    </tr>\n",
       "    <tr>\n",
       "      <th>4</th>\n",
       "      <td>Кирилл</td>\n",
       "      <td>wev.evwunev@gmail.com</td>\n",
       "    </tr>\n",
       "    <tr>\n",
       "      <th>5</th>\n",
       "      <td>Анна</td>\n",
       "      <td>8909915999\\nbunevls@yandex.ru</td>\n",
       "    </tr>\n",
       "    <tr>\n",
       "      <th>6</th>\n",
       "      <td>Михаил</td>\n",
       "      <td>NaN</td>\n",
       "    </tr>\n",
       "    <tr>\n",
       "      <th>7</th>\n",
       "      <td>Юлия</td>\n",
       "      <td>hvbiuqok@mail.ru\\n8-(962)-949-99-99</td>\n",
       "    </tr>\n",
       "    <tr>\n",
       "      <th>8</th>\n",
       "      <td>Анна</td>\n",
       "      <td>89272169999// mail9@edu.hse.ru</td>\n",
       "    </tr>\n",
       "    <tr>\n",
       "      <th>9</th>\n",
       "      <td>Ольга</td>\n",
       "      <td>+79099619999\\njeovsv.omwivweb@hotmail.com</td>\n",
       "    </tr>\n",
       "    <tr>\n",
       "      <th>10</th>\n",
       "      <td>Арина</td>\n",
       "      <td>ogjgei.owenvejkr@yandex.ru</td>\n",
       "    </tr>\n",
       "    <tr>\n",
       "      <th>11</th>\n",
       "      <td>Артем</td>\n",
       "      <td>pdfko_588@mail.ru\\n89153599999</td>\n",
       "    </tr>\n",
       "    <tr>\n",
       "      <th>12</th>\n",
       "      <td>Елена</td>\n",
       "      <td>lwegmbek.hse@gmail.com\\n+79197799999</td>\n",
       "    </tr>\n",
       "    <tr>\n",
       "      <th>13</th>\n",
       "      <td>Александр</td>\n",
       "      <td>Korbjtein424@gmail.com\\n+79152239999</td>\n",
       "    </tr>\n",
       "    <tr>\n",
       "      <th>14</th>\n",
       "      <td>Евгения</td>\n",
       "      <td>Lounwbhr@gmail.com</td>\n",
       "    </tr>\n",
       "    <tr>\n",
       "      <th>15</th>\n",
       "      <td>Ирина</td>\n",
       "      <td>ktom.quwioergkbj@gmail.com</td>\n",
       "    </tr>\n",
       "    <tr>\n",
       "      <th>16</th>\n",
       "      <td>Анастасия</td>\n",
       "      <td>Моб. 89165949999\\nE-mail: gog.otmn@mail.ru</td>\n",
       "    </tr>\n",
       "    <tr>\n",
       "      <th>17</th>\n",
       "      <td>Юлия</td>\n",
       "      <td>iawpghnube1206@gmail.com\\n+79151489999 (telegr...</td>\n",
       "    </tr>\n",
       "    <tr>\n",
       "      <th>18</th>\n",
       "      <td>Валерия</td>\n",
       "      <td>kptkg.oewmibri@inbox.ru \\nPoenb89252778480@yan...</td>\n",
       "    </tr>\n",
       "    <tr>\n",
       "      <th>19</th>\n",
       "      <td>Юлия</td>\n",
       "      <td>89774189999\\nmail20@edu.hse.ru</td>\n",
       "    </tr>\n",
       "    <tr>\n",
       "      <th>20</th>\n",
       "      <td>Алёна</td>\n",
       "      <td>ieminbbr98@gmail.com\\n8-964-162-99-99</td>\n",
       "    </tr>\n",
       "    <tr>\n",
       "      <th>21</th>\n",
       "      <td>Юлия</td>\n",
       "      <td>owjvnbmjregs.98@mail.ru</td>\n",
       "    </tr>\n",
       "    <tr>\n",
       "      <th>22</th>\n",
       "      <td>Варвара</td>\n",
       "      <td>zxcvbhjyt@yandex.ru\\n89166099999</td>\n",
       "    </tr>\n",
       "    <tr>\n",
       "      <th>23</th>\n",
       "      <td>Софья</td>\n",
       "      <td>Zotovasofya1999@yandex.ru\\n</td>\n",
       "    </tr>\n",
       "    <tr>\n",
       "      <th>24</th>\n",
       "      <td>Денис</td>\n",
       "      <td>89296649999 - телефон\\nkgquiduhr@gmail.com - п...</td>\n",
       "    </tr>\n",
       "    <tr>\n",
       "      <th>25</th>\n",
       "      <td>Екатерина</td>\n",
       "      <td>89999779999\\nmail27@edu.hse.ru\\ntmbtjneiwmecvt...</td>\n",
       "    </tr>\n",
       "    <tr>\n",
       "      <th>26</th>\n",
       "      <td>Елизавета</td>\n",
       "      <td>+79153269999, invjrnvox@mail.ru</td>\n",
       "    </tr>\n",
       "    <tr>\n",
       "      <th>27</th>\n",
       "      <td>Полина</td>\n",
       "      <td>mntubnjr@gmail.com\\nmail28@edu.hse.ru\\n8-965-2...</td>\n",
       "    </tr>\n",
       "  </tbody>\n",
       "</table>\n",
       "</div>"
      ],
      "text/plain": [
       "      01. Имя                                 8. Личные контакты\n",
       "0   Елизавета                                                NaN\n",
       "1   Екатерина                                   mail2@edu.hse.ru\n",
       "2      Рената                    +7915472999 kdfbnd-1998@mail.ru\n",
       "3      Полина                                                NaN\n",
       "4      Кирилл                              wev.evwunev@gmail.com\n",
       "5        Анна                      8909915999\\nbunevls@yandex.ru\n",
       "6      Михаил                                                NaN\n",
       "7        Юлия                hvbiuqok@mail.ru\\n8-(962)-949-99-99\n",
       "8        Анна                     89272169999// mail9@edu.hse.ru\n",
       "9       Ольга          +79099619999\\njeovsv.omwivweb@hotmail.com\n",
       "10      Арина                         ogjgei.owenvejkr@yandex.ru\n",
       "11      Артем                     pdfko_588@mail.ru\\n89153599999\n",
       "12      Елена               lwegmbek.hse@gmail.com\\n+79197799999\n",
       "13  Александр               Korbjtein424@gmail.com\\n+79152239999\n",
       "14    Евгения                                 Lounwbhr@gmail.com\n",
       "15      Ирина                         ktom.quwioergkbj@gmail.com\n",
       "16  Анастасия         Моб. 89165949999\\nE-mail: gog.otmn@mail.ru\n",
       "17       Юлия  iawpghnube1206@gmail.com\\n+79151489999 (telegr...\n",
       "18    Валерия  kptkg.oewmibri@inbox.ru \\nPoenb89252778480@yan...\n",
       "19       Юлия                     89774189999\\nmail20@edu.hse.ru\n",
       "20      Алёна              ieminbbr98@gmail.com\\n8-964-162-99-99\n",
       "21       Юлия                            owjvnbmjregs.98@mail.ru\n",
       "22    Варвара                   zxcvbhjyt@yandex.ru\\n89166099999\n",
       "23      Софья                        Zotovasofya1999@yandex.ru\\n\n",
       "24      Денис  89296649999 - телефон\\nkgquiduhr@gmail.com - п...\n",
       "25  Екатерина  89999779999\\nmail27@edu.hse.ru\\ntmbtjneiwmecvt...\n",
       "26  Елизавета                    +79153269999, invjrnvox@mail.ru\n",
       "27     Полина  mntubnjr@gmail.com\\nmail28@edu.hse.ru\\n8-965-2..."
      ]
     },
     "execution_count": 3,
     "metadata": {},
     "output_type": "execute_result"
    }
   ],
   "source": [
    "data = pd.read_csv('https://raw.githubusercontent.com/rogovich/2019-2020_PolSci_Data_Analysis_in_Python/master/5week_Pandas_Exercises/data_contacts.csv', index_col=0)\n",
    "data"
   ]
  },
  {
   "cell_type": "markdown",
   "metadata": {},
   "source": [
    "К сожалению, уже в процессе обсуждения мы обнаружили, что наш код не учитывает почтовые домены с двумя точками (edu.hse.ru). Но это, например, можно обойти функцией, которая обрабатывает нужные случаи."
   ]
  },
  {
   "cell_type": "markdown",
   "metadata": {},
   "source": [
    "Рассмотрим работу регулярки на данном примере: 'iawpghnube1206@gmail.com\\r\\n+79151489999 (telegram @vasiiesal)'\n",
    "\n",
    "r - начало регулярки (спецсимвол), а тело самого решглярного выражения внутри ''\n",
    "\\b - это границы \"слова\": делает по факту разбивку на \"слова\", по пробелу, символам каретки, знаки переноса строки и т.д.\n",
    "\n",
    "Например, \\b разобьет на следующие подстроки:\n",
    "    * iawpghnube1206\n",
    "    * @\n",
    "    * gmail\n",
    "    * .\n",
    "    * com\n",
    "    * \\\n",
    "    * r\n",
    "    * \\\n",
    "    * n\n",
    "    * +\n",
    "    * 7\n",
    "    * (\n",
    "    * @\n",
    "    * v\n",
    "    * )\n",
    "\n"
   ]
  },
  {
   "cell_type": "code",
   "execution_count": 4,
   "metadata": {},
   "outputs": [
    {
     "data": {
      "text/plain": [
       "['', '', '', '', '', '', '', '', '', '', '', '']"
      ]
     },
     "execution_count": 4,
     "metadata": {},
     "output_type": "execute_result"
    }
   ],
   "source": [
    "x = 'iawpghnube1206@gmail.com\\r\\n+79151489999 (telegram @vasiiesal)'\n",
    "re.findall(r'\\b', x) # строки в выводе пустые, потому что не указали какой паттерн искать"
   ]
  },
  {
   "cell_type": "markdown",
   "metadata": {},
   "source": [
    "Далее идет блок в [ ], в котором как раз определяем паттерн, который ищем, в нашем случае это \\w\\d\\S, где \\w Любая цифра или буква, \\S любой непробельный символ. НО это только один символ, попадающий в эту маску. Для того чтобы получить неограниченную длинной последовательность, мы добави + к квадратным скобкам.\n",
    "\n",
    "Получим такие вот подстроки:\n",
    "    * iawpghnube1206@gmail.com\\r\\n+79151489999\n",
    "    * telegram\n",
    "    * vasiiesal)"
   ]
  },
  {
   "cell_type": "code",
   "execution_count": 5,
   "metadata": {},
   "outputs": [
    {
     "data": {
      "text/plain": [
       "['iawpghnube1206@gmail.com', '79151489999', 'telegram', 'vasiiesal)']"
      ]
     },
     "execution_count": 5,
     "metadata": {},
     "output_type": "execute_result"
    }
   ],
   "source": [
    "re.findall(r'\\b[\\w\\S]+', x)"
   ]
  },
  {
   "cell_type": "markdown",
   "metadata": {},
   "source": [
    "@ показывает нам, что далее нужно найти 1 символ @. Что даст следующие подстроки:\n",
    "    * iawpghnube1206@\n",
    "    * vasiiesal)\n"
   ]
  },
  {
   "cell_type": "code",
   "execution_count": 6,
   "metadata": {},
   "outputs": [
    {
     "data": {
      "text/plain": [
       "['iawpghnube1206@']"
      ]
     },
     "execution_count": 6,
     "metadata": {},
     "output_type": "execute_result"
    }
   ],
   "source": [
    "re.findall(r'\\b[\\w\\S]+@', x)"
   ]
  },
  {
   "cell_type": "markdown",
   "metadata": {},
   "source": [
    "Т.к. мы знаем что после @ всегда идет домен, то далее мы ищем только буквы \\w, точнее последовательность из букв \\w+. Получим уже одну строку:\n",
    "    * iawpghnube1206@gmail\n"
   ]
  },
  {
   "cell_type": "code",
   "execution_count": 7,
   "metadata": {},
   "outputs": [
    {
     "data": {
      "text/plain": [
       "['iawpghnube1206@gmail']"
      ]
     },
     "execution_count": 7,
     "metadata": {},
     "output_type": "execute_result"
    }
   ],
   "source": [
    "re.findall(r'\\b[\\w\\S]+@\\w+', x)"
   ]
  },
  {
   "cell_type": "markdown",
   "metadata": {},
   "source": [
    "А далее ждет доменная зона, которая всегда начинается с точки, поэтому и ищем 1 символ ., а за ним любую буквенную последовательность \\w+, что и даст нам искомые почты\n",
    "    * iawpghnube1206@gmail.com\n",
    "    \n",
    "Детально посмотреть работу регулярного выражения можно на этом сайте. Там каждое значые объясняется и выделяется в искомой строке. Очень удобно.\n",
    "https://regex101.com/"
   ]
  },
  {
   "cell_type": "code",
   "execution_count": 8,
   "metadata": {},
   "outputs": [
    {
     "data": {
      "text/plain": [
       "['iawpghnube1206@gmail.com']"
      ]
     },
     "execution_count": 8,
     "metadata": {},
     "output_type": "execute_result"
    }
   ],
   "source": [
    "re.findall(r'\\b[\\w\\d\\S]+@\\w+.\\w+', x)"
   ]
  },
  {
   "cell_type": "code",
   "execution_count": 9,
   "metadata": {},
   "outputs": [
    {
     "name": "stdout",
     "output_type": "stream",
     "text": [
      "[]\n",
      "['mail2@edu.hse']\n",
      "['kdfbnd-1998@mail.ru']\n",
      "[]\n",
      "['wev.evwunev@gmail.com']\n",
      "['bunevls@yandex.ru']\n",
      "[]\n",
      "['hvbiuqok@mail.ru']\n",
      "['mail9@edu.hse']\n",
      "['jeovsv.omwivweb@hotmail.com']\n",
      "['ogjgei.owenvejkr@yandex.ru']\n",
      "['pdfko_588@mail.ru']\n",
      "['lwegmbek.hse@gmail.com']\n",
      "['Korbjtein424@gmail.com']\n",
      "['Lounwbhr@gmail.com']\n",
      "['ktom.quwioergkbj@gmail.com']\n",
      "['gog.otmn@mail.ru']\n",
      "['iawpghnube1206@gmail.com']\n",
      "['kptkg.oewmibri@inbox.ru', 'Poenb89252778480@yandex.ru']\n",
      "['mail20@edu.hse']\n",
      "['ieminbbr98@gmail.com']\n",
      "['owjvnbmjregs.98@mail.ru']\n",
      "['zxcvbhjyt@yandex.ru']\n",
      "['Zotovasofya1999@yandex.ru']\n",
      "['kgquiduhr@gmail.com']\n",
      "['mail27@edu.hse', 'tmbtjneiwmecvt@gmail.com']\n",
      "['invjrnvox@mail.ru']\n",
      "['mntubnjr@gmail.com', 'mail28@edu.hse']\n"
     ]
    }
   ],
   "source": [
    "for i in data['8. Личные контакты']:\n",
    "    mails = re.findall(r'\\b[\\w\\d\\S]+@\\w+.\\w+', str(i))\n",
    "    print(mails)"
   ]
  },
  {
   "cell_type": "code",
   "execution_count": 71,
   "metadata": {},
   "outputs": [],
   "source": [
    "data['email'] = None\n",
    "data['email2'] = None"
   ]
  },
  {
   "cell_type": "code",
   "execution_count": 72,
   "metadata": {},
   "outputs": [
    {
     "name": "stdout",
     "output_type": "stream",
     "text": [
      "[]\n",
      "['mail2@edu.hse']\n",
      "['kdfbnd-1998@mail.ru']\n",
      "[]\n",
      "['wev.evwunev@gmail.com']\n",
      "['bunevls@yandex.ru']\n",
      "[]\n",
      "['hvbiuqok@mail.ru']\n",
      "['mail9@edu.hse']\n",
      "['jeovsv.omwivweb@hotmail.com']\n",
      "['ogjgei.owenvejkr@yandex.ru']\n",
      "['pdfko_588@mail.ru']\n",
      "['lwegmbek.hse@gmail.com']\n",
      "['Korbjtein424@gmail.com']\n",
      "['Lounwbhr@gmail.com']\n",
      "['ktom.quwioergkbj@gmail.com']\n",
      "['gog.otmn@mail.ru']\n",
      "['iawpghnube1206@gmail.com']\n",
      "['kptkg.oewmibri@inbox.ru', 'Poenb89252778480@yandex.ru']\n",
      "['mail20@edu.hse']\n",
      "['ieminbbr98@gmail.com']\n",
      "['owjvnbmjregs.98@mail.ru']\n",
      "['zxcvbhjyt@yandex.ru']\n",
      "['Zotovasofya1999@yandex.ru']\n",
      "['kgquiduhr@gmail.com']\n",
      "['mail27@edu.hse', 'tmbtjneiwmecvt@gmail.com']\n",
      "['invjrnvox@mail.ru']\n",
      "['mntubnjr@gmail.com', 'mail28@edu.hse']\n"
     ]
    }
   ],
   "source": [
    "for i in range(len(data)):\n",
    "    mails = re.findall(r'\\b[\\w\\d\\S]+@\\w+.\\w+', str(data['8. Личные контакты'][i]))\n",
    "    try:\n",
    "        data['email'][i] = mails[0]\n",
    "        data['email2'][i] = mails[1]\n",
    "    \n",
    "    except:\n",
    "        continue"
   ]
  },
  {
   "cell_type": "code",
   "execution_count": 10,
   "metadata": {},
   "outputs": [
    {
     "data": {
      "text/html": [
       "<div>\n",
       "<style scoped>\n",
       "    .dataframe tbody tr th:only-of-type {\n",
       "        vertical-align: middle;\n",
       "    }\n",
       "\n",
       "    .dataframe tbody tr th {\n",
       "        vertical-align: top;\n",
       "    }\n",
       "\n",
       "    .dataframe thead th {\n",
       "        text-align: right;\n",
       "    }\n",
       "</style>\n",
       "<table border=\"1\" class=\"dataframe\">\n",
       "  <thead>\n",
       "    <tr style=\"text-align: right;\">\n",
       "      <th></th>\n",
       "      <th>01. Имя</th>\n",
       "      <th>8. Личные контакты</th>\n",
       "    </tr>\n",
       "  </thead>\n",
       "  <tbody>\n",
       "    <tr>\n",
       "      <th>0</th>\n",
       "      <td>Елизавета</td>\n",
       "      <td>NaN</td>\n",
       "    </tr>\n",
       "    <tr>\n",
       "      <th>1</th>\n",
       "      <td>Екатерина</td>\n",
       "      <td>mail2@edu.hse.ru</td>\n",
       "    </tr>\n",
       "    <tr>\n",
       "      <th>2</th>\n",
       "      <td>Рената</td>\n",
       "      <td>+7915472999 kdfbnd-1998@mail.ru</td>\n",
       "    </tr>\n",
       "    <tr>\n",
       "      <th>3</th>\n",
       "      <td>Полина</td>\n",
       "      <td>NaN</td>\n",
       "    </tr>\n",
       "    <tr>\n",
       "      <th>4</th>\n",
       "      <td>Кирилл</td>\n",
       "      <td>wev.evwunev@gmail.com</td>\n",
       "    </tr>\n",
       "    <tr>\n",
       "      <th>5</th>\n",
       "      <td>Анна</td>\n",
       "      <td>8909915999\\r\\nbunevls@yandex.ru</td>\n",
       "    </tr>\n",
       "    <tr>\n",
       "      <th>6</th>\n",
       "      <td>Михаил</td>\n",
       "      <td>NaN</td>\n",
       "    </tr>\n",
       "    <tr>\n",
       "      <th>7</th>\n",
       "      <td>Юлия</td>\n",
       "      <td>hvbiuqok@mail.ru\\r\\n8-(962)-949-99-99</td>\n",
       "    </tr>\n",
       "    <tr>\n",
       "      <th>8</th>\n",
       "      <td>Анна</td>\n",
       "      <td>89272169999// mail9@edu.hse.ru</td>\n",
       "    </tr>\n",
       "    <tr>\n",
       "      <th>9</th>\n",
       "      <td>Ольга</td>\n",
       "      <td>+79099619999\\r\\njeovsv.omwivweb@hotmail.com</td>\n",
       "    </tr>\n",
       "    <tr>\n",
       "      <th>10</th>\n",
       "      <td>Арина</td>\n",
       "      <td>ogjgei.owenvejkr@yandex.ru</td>\n",
       "    </tr>\n",
       "    <tr>\n",
       "      <th>11</th>\n",
       "      <td>Артем</td>\n",
       "      <td>pdfko_588@mail.ru\\r\\n89153599999</td>\n",
       "    </tr>\n",
       "    <tr>\n",
       "      <th>12</th>\n",
       "      <td>Елена</td>\n",
       "      <td>lwegmbek.hse@gmail.com\\r\\n+79197799999</td>\n",
       "    </tr>\n",
       "    <tr>\n",
       "      <th>13</th>\n",
       "      <td>Александр</td>\n",
       "      <td>Korbjtein424@gmail.com\\r\\n+79152239999</td>\n",
       "    </tr>\n",
       "    <tr>\n",
       "      <th>14</th>\n",
       "      <td>Евгения</td>\n",
       "      <td>Lounwbhr@gmail.com</td>\n",
       "    </tr>\n",
       "    <tr>\n",
       "      <th>15</th>\n",
       "      <td>Ирина</td>\n",
       "      <td>ktom.quwioergkbj@gmail.com</td>\n",
       "    </tr>\n",
       "    <tr>\n",
       "      <th>16</th>\n",
       "      <td>Анастасия</td>\n",
       "      <td>Моб. 89165949999\\r\\nE-mail: gog.otmn@mail.ru</td>\n",
       "    </tr>\n",
       "    <tr>\n",
       "      <th>17</th>\n",
       "      <td>Юлия</td>\n",
       "      <td>iawpghnube1206@gmail.com\\r\\n+79151489999 (tele...</td>\n",
       "    </tr>\n",
       "    <tr>\n",
       "      <th>18</th>\n",
       "      <td>Валерия</td>\n",
       "      <td>kptkg.oewmibri@inbox.ru \\r\\nPoenb89252778480@y...</td>\n",
       "    </tr>\n",
       "    <tr>\n",
       "      <th>19</th>\n",
       "      <td>Юлия</td>\n",
       "      <td>89774189999\\r\\nmail20@edu.hse.ru</td>\n",
       "    </tr>\n",
       "    <tr>\n",
       "      <th>20</th>\n",
       "      <td>Алёна</td>\n",
       "      <td>ieminbbr98@gmail.com\\r\\n8-964-162-99-99</td>\n",
       "    </tr>\n",
       "    <tr>\n",
       "      <th>21</th>\n",
       "      <td>Юлия</td>\n",
       "      <td>owjvnbmjregs.98@mail.ru</td>\n",
       "    </tr>\n",
       "    <tr>\n",
       "      <th>22</th>\n",
       "      <td>Варвара</td>\n",
       "      <td>zxcvbhjyt@yandex.ru\\r\\n89166099999</td>\n",
       "    </tr>\n",
       "    <tr>\n",
       "      <th>23</th>\n",
       "      <td>Софья</td>\n",
       "      <td>Zotovasofya1999@yandex.ru\\r\\n</td>\n",
       "    </tr>\n",
       "    <tr>\n",
       "      <th>24</th>\n",
       "      <td>Денис</td>\n",
       "      <td>89296649999 - телефон\\r\\nkgquiduhr@gmail.com -...</td>\n",
       "    </tr>\n",
       "    <tr>\n",
       "      <th>25</th>\n",
       "      <td>Екатерина</td>\n",
       "      <td>89999779999\\r\\nmail27@edu.hse.ru\\r\\ntmbtjneiwm...</td>\n",
       "    </tr>\n",
       "    <tr>\n",
       "      <th>26</th>\n",
       "      <td>Елизавета</td>\n",
       "      <td>+79153269999, invjrnvox@mail.ru</td>\n",
       "    </tr>\n",
       "    <tr>\n",
       "      <th>27</th>\n",
       "      <td>Полина</td>\n",
       "      <td>mntubnjr@gmail.com\\r\\nmail28@edu.hse.ru\\r\\n8-9...</td>\n",
       "    </tr>\n",
       "  </tbody>\n",
       "</table>\n",
       "</div>"
      ],
      "text/plain": [
       "      01. Имя                                 8. Личные контакты\n",
       "0   Елизавета                                                NaN\n",
       "1   Екатерина                                   mail2@edu.hse.ru\n",
       "2      Рената                    +7915472999 kdfbnd-1998@mail.ru\n",
       "3      Полина                                                NaN\n",
       "4      Кирилл                              wev.evwunev@gmail.com\n",
       "5        Анна                    8909915999\\r\\nbunevls@yandex.ru\n",
       "6      Михаил                                                NaN\n",
       "7        Юлия              hvbiuqok@mail.ru\\r\\n8-(962)-949-99-99\n",
       "8        Анна                     89272169999// mail9@edu.hse.ru\n",
       "9       Ольга        +79099619999\\r\\njeovsv.omwivweb@hotmail.com\n",
       "10      Арина                         ogjgei.owenvejkr@yandex.ru\n",
       "11      Артем                   pdfko_588@mail.ru\\r\\n89153599999\n",
       "12      Елена             lwegmbek.hse@gmail.com\\r\\n+79197799999\n",
       "13  Александр             Korbjtein424@gmail.com\\r\\n+79152239999\n",
       "14    Евгения                                 Lounwbhr@gmail.com\n",
       "15      Ирина                         ktom.quwioergkbj@gmail.com\n",
       "16  Анастасия       Моб. 89165949999\\r\\nE-mail: gog.otmn@mail.ru\n",
       "17       Юлия  iawpghnube1206@gmail.com\\r\\n+79151489999 (tele...\n",
       "18    Валерия  kptkg.oewmibri@inbox.ru \\r\\nPoenb89252778480@y...\n",
       "19       Юлия                   89774189999\\r\\nmail20@edu.hse.ru\n",
       "20      Алёна            ieminbbr98@gmail.com\\r\\n8-964-162-99-99\n",
       "21       Юлия                            owjvnbmjregs.98@mail.ru\n",
       "22    Варвара                 zxcvbhjyt@yandex.ru\\r\\n89166099999\n",
       "23      Софья                      Zotovasofya1999@yandex.ru\\r\\n\n",
       "24      Денис  89296649999 - телефон\\r\\nkgquiduhr@gmail.com -...\n",
       "25  Екатерина  89999779999\\r\\nmail27@edu.hse.ru\\r\\ntmbtjneiwm...\n",
       "26  Елизавета                    +79153269999, invjrnvox@mail.ru\n",
       "27     Полина  mntubnjr@gmail.com\\r\\nmail28@edu.hse.ru\\r\\n8-9..."
      ]
     },
     "execution_count": 10,
     "metadata": {},
     "output_type": "execute_result"
    }
   ],
   "source": [
    "data"
   ]
  },
  {
   "cell_type": "markdown",
   "metadata": {},
   "source": [
    "Тьюториал по регуляркам, если забыли их\n",
    "https://tproger.ru/translations/regular-expression-python/"
   ]
  }
 ],
 "metadata": {
  "kernelspec": {
   "display_name": "Python 3",
   "language": "python",
   "name": "python3"
  },
  "language_info": {
   "codemirror_mode": {
    "name": "ipython",
    "version": 3
   },
   "file_extension": ".py",
   "mimetype": "text/x-python",
   "name": "python",
   "nbconvert_exporter": "python",
   "pygments_lexer": "ipython3",
   "version": "3.6.5"
  }
 },
 "nbformat": 4,
 "nbformat_minor": 2
}
