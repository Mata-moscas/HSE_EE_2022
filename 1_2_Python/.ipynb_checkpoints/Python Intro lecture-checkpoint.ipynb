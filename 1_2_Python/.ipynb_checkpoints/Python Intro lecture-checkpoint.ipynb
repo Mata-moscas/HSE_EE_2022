{
 "cells": [
  {
   "cell_type": "markdown",
   "metadata": {},
   "source": [
    "# Анализ данных  в Python\n",
    "## синтаксис языка и примеры задач\n",
    "##### Занятия 1, 2\n",
    "\n",
    "*Бирюков Валентин, Рогович Татьяна, НИУ ВШЭ*\n",
    "\n"
   ]
  },
  {
   "cell_type": "markdown",
   "metadata": {},
   "source": [
    "# Структуры данных"
   ]
  },
  {
   "cell_type": "code",
   "execution_count": 12,
   "metadata": {},
   "outputs": [],
   "source": [
    "a = 1"
   ]
  },
  {
   "cell_type": "code",
   "execution_count": 10,
   "metadata": {},
   "outputs": [
    {
     "data": {
      "text/plain": [
       "1"
      ]
     },
     "execution_count": 10,
     "metadata": {},
     "output_type": "execute_result"
    }
   ],
   "source": [
    "a\n",
    "a"
   ]
  },
  {
   "cell_type": "code",
   "execution_count": 11,
   "metadata": {},
   "outputs": [
    {
     "name": "stdout",
     "output_type": "stream",
     "text": [
      "1\n",
      "1\n"
     ]
    }
   ],
   "source": [
    "print(a)\n",
    "print(a)"
   ]
  },
  {
   "cell_type": "code",
   "execution_count": null,
   "metadata": {},
   "outputs": [],
   "source": []
  },
  {
   "cell_type": "code",
   "execution_count": 6,
   "metadata": {
    "scrolled": true
   },
   "outputs": [
    {
     "data": {
      "text/plain": [
       "str"
      ]
     },
     "execution_count": 6,
     "metadata": {},
     "output_type": "execute_result"
    }
   ],
   "source": [
    "# текстовая переменная (string)\n",
    "x = 'string'\n",
    "type(x)"
   ]
  },
  {
   "cell_type": "code",
   "execution_count": 2,
   "metadata": {},
   "outputs": [
    {
     "data": {
      "text/plain": [
       "int"
      ]
     },
     "execution_count": 2,
     "metadata": {},
     "output_type": "execute_result"
    }
   ],
   "source": [
    "# целочисленная переменная (integer)\n",
    "x = 1\n",
    "type(x)"
   ]
  },
  {
   "cell_type": "code",
   "execution_count": 3,
   "metadata": {},
   "outputs": [
    {
     "data": {
      "text/plain": [
       "float"
      ]
     },
     "execution_count": 3,
     "metadata": {},
     "output_type": "execute_result"
    }
   ],
   "source": [
    "# переменная с плавающей точкой (float)\n",
    "x = 1.25\n",
    "type(x)"
   ]
  },
  {
   "cell_type": "code",
   "execution_count": 4,
   "metadata": {},
   "outputs": [
    {
     "data": {
      "text/plain": [
       "list"
      ]
     },
     "execution_count": 4,
     "metadata": {},
     "output_type": "execute_result"
    }
   ],
   "source": [
    "# список (list)\n",
    "x = [1, 'srping']\n",
    "type(x)"
   ]
  },
  {
   "cell_type": "code",
   "execution_count": 5,
   "metadata": {},
   "outputs": [
    {
     "data": {
      "text/plain": [
       "tuple"
      ]
     },
     "execution_count": 5,
     "metadata": {},
     "output_type": "execute_result"
    }
   ],
   "source": [
    "# кортеж (tuple)\n",
    "x = (1, 5, 4, 'spring')\n",
    "type(x)"
   ]
  },
  {
   "cell_type": "code",
   "execution_count": 6,
   "metadata": {},
   "outputs": [
    {
     "data": {
      "text/plain": [
       "dict"
      ]
     },
     "execution_count": 6,
     "metadata": {},
     "output_type": "execute_result"
    }
   ],
   "source": [
    "# словарь (dictionary)\n",
    "x = {1 : 'a', 2 : 'b'}\n",
    "type(x)"
   ]
  },
  {
   "cell_type": "code",
   "execution_count": 5,
   "metadata": {},
   "outputs": [
    {
     "name": "stdout",
     "output_type": "stream",
     "text": [
      "{1, 4, 5}\n"
     ]
    }
   ],
   "source": [
    "# множество (set)\n",
    "x = {1, 4, 4, 4, 5}\n",
    "type(x)\n",
    "print(x)"
   ]
  },
  {
   "cell_type": "code",
   "execution_count": 99,
   "metadata": {},
   "outputs": [
    {
     "data": {
      "text/plain": [
       "bool"
      ]
     },
     "execution_count": 99,
     "metadata": {},
     "output_type": "execute_result"
    }
   ],
   "source": [
    "# булевая переменная (bool)\n",
    "x = True\n",
    "type(x)"
   ]
  },
  {
   "cell_type": "code",
   "execution_count": 14,
   "metadata": {},
   "outputs": [
    {
     "name": "stdout",
     "output_type": "stream",
     "text": [
      "True\n",
      "False\n",
      "False\n",
      "True\n"
     ]
    }
   ],
   "source": [
    "# и друзья булевых переменных - логические операции.\n",
    "print(2 == 2)\n",
    "print(2 != 2)\n",
    "print(2 < 2)\n",
    "print(2 > 2)"
   ]
  },
  {
   "cell_type": "code",
   "execution_count": 17,
   "metadata": {},
   "outputs": [
    {
     "data": {
      "text/plain": [
       "['a', 'b', 'c']"
      ]
     },
     "execution_count": 17,
     "metadata": {},
     "output_type": "execute_result"
    }
   ],
   "source": [
    "a = ['a', 'b', 'c']\n",
    "b = ('a', 'b', 'c')\n",
    "\n",
    "sin(x)"
   ]
  },
  {
   "cell_type": "markdown",
   "metadata": {},
   "source": [
    "# Индексация и срезы (списки, строки, кортежи)\n"
   ]
  },
  {
   "cell_type": "code",
   "execution_count": 28,
   "metadata": {},
   "outputs": [],
   "source": [
    "#[1,5]\n",
    "#(1,5)\n",
    "#[1,5)"
   ]
  },
  {
   "cell_type": "code",
   "execution_count": 29,
   "metadata": {},
   "outputs": [
    {
     "name": "stdout",
     "output_type": "stream",
     "text": [
      "Длина списка: 6\n",
      "Первый элемент: this\n",
      "Все элементы после второго:  ['our', 1]\n",
      "Все элементы до второго с конца:  ['this', 'is', 'our', 1]\n",
      "Последний элемент: ['array', 'within the array'] или ['array', 'within the array']\n",
      "Каждый второй элемент: ['this', 'our', 'array']\n",
      "В обратном порядке: [['array', 'within the array'], 'array', 1, 'our', 'is', 'this']\n",
      "Двойная индексация вложенного списка: array\n"
     ]
    }
   ],
   "source": [
    "# [ start : end (: step)]\n",
    "\n",
    "x = ['this', 'is', 'our', 1, 'array', ['array', 'within the array']]\n",
    "print('Длина списка:', len(x))\n",
    "print('Первый элемент:', x[0])\n",
    "print('Все элементы после второго: ', x[2:4])\n",
    "print('Все элементы до второго с конца: ', x[:-2])\n",
    "print('Последний элемент:', x[-1], 'или', x[len(x)-1])\n",
    "print('Каждый второй элемент:', x[::2])\n",
    "print('В обратном порядке:', x[::-1])\n",
    "print('Двойная индексация вложенного списка:', x[-1][0])"
   ]
  },
  {
   "cell_type": "code",
   "execution_count": 36,
   "metadata": {},
   "outputs": [
    {
     "data": {
      "text/plain": [
       "'e'"
      ]
     },
     "execution_count": 36,
     "metadata": {},
     "output_type": "execute_result"
    }
   ],
   "source": [
    "a = [\n",
    "    'a', \n",
    "    [\n",
    "        'b',\n",
    "        'c',\n",
    "        ['d','e']\n",
    "    ]\n",
    "]\n",
    "a[-1][-1][-1]"
   ]
  },
  {
   "cell_type": "code",
   "execution_count": 44,
   "metadata": {},
   "outputs": [
    {
     "data": {
      "text/plain": [
       "'lol'"
      ]
     },
     "execution_count": 44,
     "metadata": {},
     "output_type": "execute_result"
    }
   ],
   "source": [
    "a = 'lolkek'\n",
    "a[:3]"
   ]
  },
  {
   "cell_type": "markdown",
   "metadata": {},
   "source": [
    "### Методы строк"
   ]
  },
  {
   "cell_type": "code",
   "execution_count": 60,
   "metadata": {},
   "outputs": [
    {
     "name": "stdout",
     "output_type": "stream",
     "text": [
      "aloldonvjkvljvjlaloldonvjkvljvjlaloldonvjkvljvjlaloldonvjkvljvjlaloldonvjkvljvjlaloldonvjkvljvjlaloldonvjkvljvjlaloldonvjkvljvjlaloldonvjkvljvjlaloldonvjkvljvjlaloldonvjkvljvjlaloldonvjkvljvjlaloldonvjkvljvjlaloldonvjkvljvjlaloldonvjkvljvjlaloldonvjkvljvjlaloldonvjkvljvjlaloldonvjkvljvjlaloldonvjkvljvjlaloldonvjkvljvjlaloldonvjkvljvjlaloldonvjkvljvjlaloldonvjkvljvjlaloldonvjkvljvjlaloldonvjkvljvjlaloldonvjkvljvjlaloldonvjkvljvjlaloldonvjkvljvjlaloldonvjkvljvjlaloldonvjkvljvjlaloldonvjkvljvjlaloldonvjkvljvjlaloldonvjkvljvjlaloldonvjkvljvjlaloldonvjkvljvjlaloldonvjkvljvjlaloldonvjkvljvjlaloldonvjkvljvjlaloldonvjkvljvjlaloldonvjkvljvjlaloldonvjkvljvjlaloldonvjkvljvjlaloldonvjkvljvjlaloldonvjkvljvjlaloldonvjkvljvjlaloldonvjkvljvjlaloldonvjkvljvjlaloldonvjkvljvjlaloldonvjkvljvjlaloldonvjkvljvjlaloldonvjkvljvjlaloldonvjkvljvjlaloldonvjkvljvjlaloldonvjkvljvjlaloldonvjkvljvjlaloldonvjkvljvjlaloldonvjkvljvjlaloldonvjkvljvjlaloldonvjkvljvjlaloldonvjkvljvjlaloldonvjkvljvjlaloldonvjkvljvjlaloldonvjkvljvjlaloldonvjkvljvjlaloldonvjkvljvjlaloldonvjkvljvjlaloldonvjkvljvjlaloldonvjkvljvjlaloldonvjkvljvjlaloldonvjkvljvjlaloldonvjkvljvjlaloldonvjkvljvjlaloldonvjkvljvjlaloldonvjkvljvjlaloldonvjkvljvjlaloldonvjkvljvjlaloldonvjkvljvjlaloldonvjkvljvjlaloldonvjkvljvjlaloldonvjkvljvjlaloldonvjkvljvjlaloldonvjkvljvjlaloldonvjkvljvjlaloldonvjkvljvjlaloldonvjkvljvjlaloldonvjkvljvjlaloldonvjkvljvjlaloldonvjkvljvjlaloldonvjkvljvjlaloldonvjkvljvjlaloldonvjkvljvjlaloldonvjkvljvjlaloldonvjkvljvjlaloldonvjkvljvjlaloldonvjkvljvjlaloldonvjkvljvjlaloldonvjkvljvjlaloldonvjkvljvjlaloldonvjkvljvjlaloldonvjkvljvjl\n",
      "lol,kek,cheburek\n",
      "lol,kek\n"
     ]
    },
    {
     "data": {
      "text/plain": [
       "'aaaaaaaaaaaaaaaaaaaaaaaaaaaaaaaaaaaaaaaaaaaaaaaaaaaaaaaaaaaaaaaaaaaaaaaaaaaaaaaaaaaaaaaaaaaaaaaaaaaa'"
      ]
     },
     "execution_count": 60,
     "metadata": {},
     "output_type": "execute_result"
    }
   ],
   "source": [
    "q = 'aloldonvjkvljvjl'\n",
    "print(q*100)\n",
    "a = 'lol'\n",
    "b = ',kek'\n",
    "c = ',cheburek'\n",
    "\n",
    "print(a+b+c)\n",
    "a += b # a = a + b\n",
    "print(a)\n",
    "\n",
    "'a'*100"
   ]
  },
  {
   "cell_type": "code",
   "execution_count": 63,
   "metadata": {},
   "outputs": [
    {
     "name": "stdout",
     "output_type": "stream",
     "text": [
      "Welcome to Brasil! Have a nice day!\n",
      "Welcome to Brasil!\n",
      "Welcome to Brasil! Have a nice day!\n",
      "Welcome to Brasil! Have a nice day!Welcome to Brasil! Have a nice day!Welcome to Brasil! Have a nice day!\n",
      "True\n",
      "False\n"
     ]
    }
   ],
   "source": [
    "s = 'Welcome to Brasil!'\n",
    "\n",
    "# Можем объединять строки\n",
    "print(s + ' Have a nice day!') # или можем напрямую добавить вторую строку к первой\n",
    "print(s)\n",
    "s += ' Have a nice day!' # но тогда исходная строка s уже изменится, так как использовали операцию присваивания\n",
    "print(s)\n",
    "\n",
    "#Также можно умножать строку на число k и получать новую строку, состоящую из k повторений исходной\n",
    "k = 3\n",
    "print(s*k)\n",
    "\n",
    "# данный метод проверяет, начинается ли исходная строка на данную подстроку\n",
    "print(s.startswith('W')) \n",
    "\n",
    "# аналогично, но про окончание\n",
    "print(s.endswith('W'))\n"
   ]
  },
  {
   "cell_type": "code",
   "execution_count": 64,
   "metadata": {},
   "outputs": [
    {
     "data": {
      "text/plain": [
       "str"
      ]
     },
     "execution_count": 64,
     "metadata": {},
     "output_type": "execute_result"
    }
   ],
   "source": [
    "s"
   ]
  },
  {
   "cell_type": "markdown",
   "metadata": {},
   "source": [
    "Метод find() возвращает индекс первого символа первого вхождения подстроки, если она содержится в строке.\n",
    "Если такой подстроки нет, то возвращает -1."
   ]
  },
  {
   "cell_type": "code",
   "execution_count": 65,
   "metadata": {},
   "outputs": [
    {
     "name": "stdout",
     "output_type": "stream",
     "text": [
      "-1\n",
      "Brasil! Have a nice day!\n",
      "Brasil\n"
     ]
    }
   ],
   "source": [
    "print(s.find('Brasilllllll'))\n",
    "print(s[s.find('Brasil'):]) # напечатаем всю строку, начиная с Brasil\n",
    "print(s[s.find('Brasil'):s.find('!')])  # а теперь только Brasil с помощью среза"
   ]
  },
  {
   "cell_type": "markdown",
   "metadata": {},
   "source": [
    "Давайте проведем сентиментальный анализ на коленке. Если отзыв содержит слово 'bad', то напишем, что это негативный отзыв. "
   ]
  },
  {
   "cell_type": "code",
   "execution_count": 67,
   "metadata": {},
   "outputs": [
    {
     "name": "stdout",
     "output_type": "stream",
     "text": [
      "This place was bad enough\n",
      "Feedback is negative\n"
     ]
    }
   ],
   "source": [
    "feedback = 'This place was bad enough'\n",
    "\n",
    "print(feedback)\n",
    "if feedback.find('bad') == -1 :\n",
    "    #вот здесь\n",
    "    print('Feedback is not negative')\n",
    "else:\n",
    "    print('Feedback is negative')"
   ]
  },
  {
   "cell_type": "code",
   "execution_count": 74,
   "metadata": {},
   "outputs": [
    {
     "name": "stdout",
     "output_type": "stream",
     "text": [
      "Feedback is negative\n"
     ]
    }
   ],
   "source": []
  },
  {
   "cell_type": "code",
   "execution_count": null,
   "metadata": {},
   "outputs": [],
   "source": []
  },
  {
   "cell_type": "markdown",
   "metadata": {},
   "source": [
    "Метод rfind() вернет последнее вхождение подстроки."
   ]
  },
  {
   "cell_type": "code",
   "execution_count": 110,
   "metadata": {},
   "outputs": [
    {
     "name": "stdout",
     "output_type": "stream",
     "text": [
      "14\n",
      "23\n"
     ]
    }
   ],
   "source": [
    "x = \"This is truly awesome! awesome!!!\"\n",
    "print(x.find('awesome!'))\n",
    "print(x.rfind('awesome!'))"
   ]
  },
  {
   "cell_type": "markdown",
   "metadata": {},
   "source": [
    "Метод replace заменит все вхождения подстроки на другую подстроку."
   ]
  },
  {
   "cell_type": "code",
   "execution_count": 112,
   "metadata": {},
   "outputs": [
    {
     "data": {
      "text/plain": [
       "'www.kzsport.kz'"
      ]
     },
     "execution_count": 112,
     "metadata": {},
     "output_type": "execute_result"
    }
   ],
   "source": [
    "web = 'www.rusport.ru'\n",
    "web.replace('ru', 'kz')"
   ]
  },
  {
   "cell_type": "markdown",
   "metadata": {},
   "source": [
    "Теперь вспомним, как считать количество вхождений подстроки в строку."
   ]
  },
  {
   "cell_type": "code",
   "execution_count": 114,
   "metadata": {},
   "outputs": [
    {
     "name": "stdout",
     "output_type": "stream",
     "text": [
      "0\n",
      "5\n",
      "2\n",
      "1\n",
      "0\n",
      "2\n",
      "3\n"
     ]
    }
   ],
   "source": [
    "s = \"Mushroooom soup\" # исходная строка\n",
    "print(s.count(\"O\")) # ищем заглавную букву О, не находим\n",
    "print(s.count(\"o\")) # ищем строчную букву о, находим 5 штук\n",
    "print(s.count(\"oo\")) # ищем две буквы о подряд, находим две таких подстроки\n",
    "print(s.count(\"ooo\")) # ищем три букв о подряд, находим одно такое вхождение\n",
    "print(s.count(\"push\")) # ищем подстроку 'push', не находим\n",
    "print(s.count(\"o\", 4, 7)) # ищем букву о в s[4:7]\n",
    "print(s.count(\"o\", 7)) # ищем букву о в s[7:]\n"
   ]
  },
  {
   "cell_type": "markdown",
   "metadata": {},
   "source": [
    "Методы, которые проверяют содежрание строк."
   ]
  },
  {
   "cell_type": "code",
   "execution_count": 94,
   "metadata": {},
   "outputs": [
    {
     "name": "stdout",
     "output_type": "stream",
     "text": [
      "False\n",
      "True\n",
      "True\n",
      "False\n",
      "True\n",
      "True\n",
      "False\n"
     ]
    }
   ],
   "source": [
    "# isalpha - проверяет, что все символы строки являются буквами.\n",
    "print('Ask me a question!'.isalpha())\n",
    "print('Ask'.isalpha())\n",
    "\n",
    "# isdigit - проверяет, что все символы строки являются цифрами.\n",
    "print('13242'.isdigit())\n",
    "\n",
    "# isalnum - проверяет, что все символы строки являются буквами или цифрами.\n",
    "print('Ask me a question!'.isalnum())\n",
    "print('Ask232'.isalnum())\n",
    "\n",
    "# islower - проверяет, что все символы строки являются маленькими (строчными) буквами.\n",
    "print('ask me a question!'.islower())\n",
    "\n",
    "# isupper - проверяет, что все символы строки являются большими (заглавными, прописными) буквами.\n",
    "print('ask me a question!'.isupper())"
   ]
  },
  {
   "cell_type": "markdown",
   "metadata": {},
   "source": [
    "Методы, которые обрезают лишние символы."
   ]
  },
  {
   "cell_type": "code",
   "execution_count": 93,
   "metadata": {},
   "outputs": [
    {
     "name": "stdout",
     "output_type": "stream",
     "text": [
      " Ask me a question! \n",
      "Ask me a question! \n",
      " Ask me a question!\n",
      "Ask me a question!\n"
     ]
    }
   ],
   "source": [
    "# lstrip - обрезает все пробельные символы в начале строки.\n",
    "print(' Ask me a question! ')\n",
    "print(' Ask me a question! '.lstrip())\n",
    "\n",
    "# rstrip - обрезает все пробельные символы в конце строки.\n",
    "print(' Ask me a question! '.rstrip())\n",
    "\n",
    "# strip - обрезает все пробельные символы в начале и конце строки.\n",
    "print(' Ask me a question! '.strip())"
   ]
  },
  {
   "cell_type": "markdown",
   "metadata": {},
   "source": [
    "# Методы списков"
   ]
  },
  {
   "cell_type": "code",
   "execution_count": 9,
   "metadata": {},
   "outputs": [
    {
     "name": "stdout",
     "output_type": "stream",
     "text": [
      "['wink', 'wink', 'nudge', 'nudge', 'know what I mean']\n"
     ]
    }
   ],
   "source": [
    "x = ['wink', 'wink', 'nudge', 'nudge']\n",
    "# добавляем элемент\n",
    "x.append(\"know what I mean\")\n",
    "print(x)"
   ]
  },
  {
   "cell_type": "code",
   "execution_count": 10,
   "metadata": {},
   "outputs": [
    {
     "data": {
      "text/plain": [
       "['know what I mean', 'nudge', 'nudge', 'wink', 'wink']"
      ]
     },
     "execution_count": 10,
     "metadata": {},
     "output_type": "execute_result"
    }
   ],
   "source": [
    "# сортируем список\n",
    "x.sort()\n",
    "x"
   ]
  },
  {
   "cell_type": "code",
   "execution_count": 11,
   "metadata": {},
   "outputs": [
    {
     "name": "stdout",
     "output_type": "stream",
     "text": [
      "['know what I mean', 'nudge', 'wink', 'wink']\n",
      "nudge\n"
     ]
    }
   ],
   "source": [
    "# удаляем элемент с возвращением (можем сохранить результат операции в переменную)\n",
    "y = x.pop(1)\n",
    "print(x)\n",
    "print(y)"
   ]
  },
  {
   "cell_type": "code",
   "execution_count": 12,
   "metadata": {},
   "outputs": [
    {
     "name": "stdout",
     "output_type": "stream",
     "text": [
      "['know what I mean', 'nudge', 'wink']\n",
      "wink\n"
     ]
    }
   ],
   "source": [
    "# если не указать параметр, то метод pop() удаляет последний элемент списка\n",
    "y = x.pop()\n",
    "print(x)\n",
    "print(y)"
   ]
  },
  {
   "cell_type": "code",
   "execution_count": 13,
   "metadata": {},
   "outputs": [
    {
     "name": "stdout",
     "output_type": "stream",
     "text": [
      "['know what I mean', 'nudge', 'wink2', 'wink']\n"
     ]
    }
   ],
   "source": [
    "# вставляем элемент на определенную позицию\n",
    "x.insert(2, 'wink2')\n",
    "print(x)"
   ]
  },
  {
   "cell_type": "code",
   "execution_count": 14,
   "metadata": {},
   "outputs": [
    {
     "name": "stdout",
     "output_type": "stream",
     "text": [
      "['know what I mean', 'nudge', 'wink']\n"
     ]
    }
   ],
   "source": [
    "# удаляем элемент\n",
    "x.remove('wink2')\n",
    "print(x)"
   ]
  },
  {
   "cell_type": "code",
   "execution_count": 15,
   "metadata": {},
   "outputs": [
    {
     "data": {
      "text/plain": [
       "1"
      ]
     },
     "execution_count": 15,
     "metadata": {},
     "output_type": "execute_result"
    }
   ],
   "source": [
    "# считаем количество встречаний\n",
    "x.count('nudge')"
   ]
  },
  {
   "cell_type": "code",
   "execution_count": 16,
   "metadata": {},
   "outputs": [
    {
     "data": {
      "text/plain": [
       "['wink', 'nudge', 'know what I mean']"
      ]
     },
     "execution_count": 16,
     "metadata": {},
     "output_type": "execute_result"
    }
   ],
   "source": [
    "# переворачиваем список\n",
    "x.reverse()\n",
    "x"
   ]
  },
  {
   "cell_type": "code",
   "execution_count": 17,
   "metadata": {},
   "outputs": [
    {
     "data": {
      "text/plain": [
       "['wink', 'winking', 'know what I mean']"
      ]
     },
     "execution_count": 17,
     "metadata": {},
     "output_type": "execute_result"
    }
   ],
   "source": [
    "# заменяем элемент по индексу\n",
    "x[1] = 'winking'\n",
    "x"
   ]
  },
  {
   "cell_type": "markdown",
   "metadata": {},
   "source": [
    "# Списковые включения (list comprehensions)"
   ]
  },
  {
   "cell_type": "markdown",
   "metadata": {},
   "source": [
    "Давайте решим следующую задачу: создадим список, где все элементы исходного списка будут написаны заглавными буквами.\n",
    "    "
   ]
  },
  {
   "cell_type": "code",
   "execution_count": 18,
   "metadata": {},
   "outputs": [
    {
     "name": "stdout",
     "output_type": "stream",
     "text": [
      "['THIS', 'IS', 'SOME', 'LIST']\n"
     ]
    }
   ],
   "source": [
    "str_list = [\"this\", \"is\", \"some\", \"list\"]\n",
    "\n",
    "upper_list = []\n",
    "for s in str_list:\n",
    "    upper_list.append(s.upper())\n",
    "    \n",
    "print(upper_list)"
   ]
  },
  {
   "cell_type": "markdown",
   "metadata": {},
   "source": [
    "Решать такую задачу с помощью списковых включений лучше, красивее и эффективнее.\n"
   ]
  },
  {
   "cell_type": "code",
   "execution_count": 19,
   "metadata": {},
   "outputs": [
    {
     "name": "stdout",
     "output_type": "stream",
     "text": [
      "['THIS', 'IS', 'SOME', 'LIST']\n"
     ]
    }
   ],
   "source": [
    "upper_list = [s.upper() for s in str_list]\n",
    "print(upper_list)"
   ]
  },
  {
   "cell_type": "markdown",
   "metadata": {},
   "source": [
    "Кадратные скобки вокруг выражения должна подсказать, что мы создаём список (потому что когда нужно создать список, мы обычно заключаем его элементы в квадратные скобки). Выражение внутри скобок нужно читать буквально:\n",
    "\n",
    "список, состоящий из элементов s.upper() для (for) элементов s из (in) списка str_list"
   ]
  },
  {
   "cell_type": "markdown",
   "metadata": {},
   "source": [
    "Также с помощью списковых включений можно делать фильтрацию:"
   ]
  },
  {
   "cell_type": "code",
   "execution_count": 20,
   "metadata": {},
   "outputs": [
    {
     "data": {
      "text/plain": [
       "['IS']"
      ]
     },
     "execution_count": 20,
     "metadata": {},
     "output_type": "execute_result"
    }
   ],
   "source": [
    "[x for x in upper_list if len(x) < 3]"
   ]
  },
  {
   "cell_type": "markdown",
   "metadata": {},
   "source": [
    "# Функция map()"
   ]
  },
  {
   "cell_type": "markdown",
   "metadata": {},
   "source": [
    "Иногда удобнее использовать даже не списочные включения, а функцию map, которая применяет функцию к списку (при чем это может быть как анонимная, так и написанная нами фукнция)."
   ]
  },
  {
   "cell_type": "code",
   "execution_count": 27,
   "metadata": {},
   "outputs": [
    {
     "data": {
      "text/plain": [
       "['THIS', 'IS', 'SOME', 'LIST']"
      ]
     },
     "execution_count": 27,
     "metadata": {},
     "output_type": "execute_result"
    }
   ],
   "source": [
    "# альтернативное решение задачи выше\n",
    "list(map(lambda x: x.upper(), str_list))"
   ]
  },
  {
   "cell_type": "code",
   "execution_count": 28,
   "metadata": {},
   "outputs": [
    {
     "data": {
      "text/plain": [
       "['1', '2', '3']"
      ]
     },
     "execution_count": 28,
     "metadata": {},
     "output_type": "execute_result"
    }
   ],
   "source": [
    "list(map(str, [1, 2, 3]))"
   ]
  },
  {
   "cell_type": "markdown",
   "metadata": {},
   "source": [
    "# Немного об эффективности\n",
    "C помощью магической функции timeit давайте узнаем, сколько времени мы экономим с помощью списковых включений или map()"
   ]
  },
  {
   "cell_type": "code",
   "execution_count": 32,
   "metadata": {},
   "outputs": [
    {
     "name": "stdout",
     "output_type": "stream",
     "text": [
      "[0.5627659585884051, 0.8184071830129355, 0.5344168687353504, 0.057260259615539266, 0.7707220505962776]\n"
     ]
    }
   ],
   "source": [
    "from random import random\n",
    "from math import sqrt\n",
    "N = 10000\n",
    "mylist = [random() for x in range(N)]\n",
    "print(mylist[:5])"
   ]
  },
  {
   "cell_type": "code",
   "execution_count": 33,
   "metadata": {},
   "outputs": [
    {
     "name": "stdout",
     "output_type": "stream",
     "text": [
      "4.34 ms ± 883 µs per loop (mean ± std. dev. of 7 runs, 100 loops each)\n"
     ]
    }
   ],
   "source": [
    "%%timeit\n",
    "\n",
    "newlist = []\n",
    "for x in mylist:\n",
    "    newlist.append(sqrt(x))"
   ]
  },
  {
   "cell_type": "code",
   "execution_count": 36,
   "metadata": {},
   "outputs": [
    {
     "name": "stdout",
     "output_type": "stream",
     "text": [
      "3.03 ms ± 435 µs per loop (mean ± std. dev. of 7 runs, 100 loops each)\n"
     ]
    }
   ],
   "source": [
    "%%timeit\n",
    "newlist = [sqrt(x) for x in mylist]"
   ]
  },
  {
   "cell_type": "code",
   "execution_count": 35,
   "metadata": {},
   "outputs": [
    {
     "name": "stdout",
     "output_type": "stream",
     "text": [
      "2.02 ms ± 323 µs per loop (mean ± std. dev. of 7 runs, 100 loops each)\n"
     ]
    }
   ],
   "source": [
    "%%timeit\n",
    "newlist = list(map(sqrt, mylist))"
   ]
  },
  {
   "cell_type": "markdown",
   "metadata": {},
   "source": [
    "Цикл всем проиграл. Списочные включения и функция map() справляются почти одинаково (не в этом конкретном случае, но вцелом.)"
   ]
  },
  {
   "cell_type": "markdown",
   "metadata": {},
   "source": [
    "# Функции range и enumerate"
   ]
  },
  {
   "cell_type": "markdown",
   "metadata": {},
   "source": [
    "Range мы используем для создания списков из диапазона чисел. Или в качестве итератора, когда нам нужно пройтись по элементам последовательности."
   ]
  },
  {
   "cell_type": "code",
   "execution_count": 124,
   "metadata": {},
   "outputs": [
    {
     "data": {
      "text/plain": [
       "[0, 1, 2, 3, 4]"
      ]
     },
     "execution_count": 124,
     "metadata": {},
     "output_type": "execute_result"
    }
   ],
   "source": [
    "[x for x in range(5)]"
   ]
  },
  {
   "cell_type": "markdown",
   "metadata": {},
   "source": [
    "Enumerate часто используется, когда нам нужно проиндексировать объекты (присвоить к ним номер по возрастанию.)"
   ]
  },
  {
   "cell_type": "code",
   "execution_count": 128,
   "metadata": {},
   "outputs": [
    {
     "name": "stdout",
     "output_type": "stream",
     "text": [
      "0 Anna\n",
      "1 Olga\n",
      "2 Alena\n"
     ]
    }
   ],
   "source": [
    "students = ['Anna', 'Olga', 'Alena']\n",
    "for index, value in enumerate(students):\n",
    "    print(index, value)"
   ]
  },
  {
   "cell_type": "markdown",
   "metadata": {},
   "source": [
    "# Методы split и join"
   ]
  },
  {
   "cell_type": "markdown",
   "metadata": {},
   "source": [
    "Метод split позволяет разрезать строку (string) на отдельные слова (\"токены\"). \n",
    "В качестве разделителя может выступать пробел, символ табуляции или перевода строки.\n",
    "Этот метод не изменяет строку и возвращает список строк-токенов. Особенно удобен для того, чтобы\n",
    "считывать input для задач из одной строки. Метод join работает в обратную сторону для списка, содержащего строки."
   ]
  },
  {
   "cell_type": "code",
   "execution_count": 21,
   "metadata": {},
   "outputs": [
    {
     "name": "stdout",
     "output_type": "stream",
     "text": [
      "['This', 'is', 'a', 'string']\n",
      "['This is', ' a string']\n"
     ]
    }
   ],
   "source": [
    "str1 = 'This is a string'  # По умолчанию разбивка идет по пробелу.\n",
    "lst = str1.split()\n",
    "print(lst)\n",
    "str2 = 'This is, a string'  # По умолчанию разбивка идет по пробелу.\n",
    "lst = str2.split(',')  # Передали параметр для критерия разбивки\n",
    "print(lst)\n",
    "\n"
   ]
  },
  {
   "cell_type": "code",
   "execution_count": 22,
   "metadata": {},
   "outputs": [
    {
     "name": "stdout",
     "output_type": "stream",
     "text": [
      "[1, 2, 3]\n",
      "1--2--3\n"
     ]
    }
   ],
   "source": [
    "# ввели несколько чисел и сохранили их в список\n",
    "numList = list(map(int, input().split()))\n",
    "print(numList)\n",
    "\n",
    "# Применяем метод к параметру, который хотим вставить между токенами и передаем список строк как аргумент\n",
    "print('--'.join(map(str, numList)))"
   ]
  },
  {
   "cell_type": "markdown",
   "metadata": {},
   "source": [
    "# Операции над множествами"
   ]
  },
  {
   "cell_type": "code",
   "execution_count": 23,
   "metadata": {},
   "outputs": [
    {
     "name": "stdout",
     "output_type": "stream",
     "text": [
      "{1, 2, 3, 5, 9}\n",
      "{1, 2, 3, 4}\n",
      "{1, 2, 3, 4, 5, 9}\n",
      "{1, 2, 3}\n",
      "{9, 5}\n",
      "{4, 5, 9}\n"
     ]
    }
   ],
   "source": [
    "firstSet = {1, 2, 1, 3, 5, 9}\n",
    "secondSet = {3, 2, 1, 4}\n",
    "print(firstSet)\n",
    "print(secondSet)\n",
    "print(firstSet | secondSet)  # Объединение множеств\n",
    "print(firstSet & secondSet)  # Пересечение множеств\n",
    "print(firstSet - secondSet)  # Множество, элементы которого входят в A, но не входят в B\n",
    "print(firstSet ^ secondSet)  # Элементы входят в A | B, но не входят в A & B"
   ]
  },
  {
   "cell_type": "markdown",
   "metadata": {},
   "source": [
    "# Операции со словарями"
   ]
  },
  {
   "cell_type": "code",
   "execution_count": 24,
   "metadata": {},
   "outputs": [
    {
     "name": "stdout",
     "output_type": "stream",
     "text": [
      "{'Tanya': '243-352', 'Oleg': ['242-212', '242-251']}\n"
     ]
    }
   ],
   "source": [
    "phone_book = {'Tanya': '243-352', 'Oleg': ['242-212', '242-251']}\n",
    "print(phone_book)"
   ]
  },
  {
   "cell_type": "markdown",
   "metadata": {},
   "source": [
    "Словарь - неупорядоченная структура. Мы не можем обратиться к объекту по индексу, но зато можем по ключу.\n"
   ]
  },
  {
   "cell_type": "code",
   "execution_count": 25,
   "metadata": {},
   "outputs": [
    {
     "name": "stdout",
     "output_type": "stream",
     "text": [
      "243-352\n"
     ]
    }
   ],
   "source": [
    "print(phone_book['Tanya'])"
   ]
  },
  {
   "cell_type": "markdown",
   "metadata": {},
   "source": [
    "Если запросим значение несуществуюещго ключа, то получим ошибку. Чтобы этого избежать, можно пользоваться методом get, который возвращает значение ключа или None, если такого ключа в словаре нет."
   ]
  },
  {
   "cell_type": "code",
   "execution_count": 26,
   "metadata": {},
   "outputs": [
    {
     "ename": "KeyError",
     "evalue": "'Anna'",
     "output_type": "error",
     "traceback": [
      "\u001b[1;31m---------------------------------------------------------------------------\u001b[0m",
      "\u001b[1;31mKeyError\u001b[0m                                  Traceback (most recent call last)",
      "\u001b[1;32m<ipython-input-26-f493216f31c7>\u001b[0m in \u001b[0;36m<module>\u001b[1;34m()\u001b[0m\n\u001b[1;32m----> 1\u001b[1;33m \u001b[0mphone_book\u001b[0m\u001b[1;33m[\u001b[0m\u001b[1;34m'Anna'\u001b[0m\u001b[1;33m]\u001b[0m\u001b[1;33m\u001b[0m\u001b[0m\n\u001b[0m",
      "\u001b[1;31mKeyError\u001b[0m: 'Anna'"
     ]
    }
   ],
   "source": [
    "phone_book['Anna']"
   ]
  },
  {
   "cell_type": "code",
   "execution_count": null,
   "metadata": {},
   "outputs": [],
   "source": [
    "print(phone_book.get('Anna'))"
   ]
  },
  {
   "cell_type": "markdown",
   "metadata": {},
   "source": [
    "Чтобы узнать, какие ключи (keys) или значения (values) есть в словаре - можно воспользоваться соответствующими\n",
    "методами.\n"
   ]
  },
  {
   "cell_type": "code",
   "execution_count": null,
   "metadata": {},
   "outputs": [],
   "source": [
    "print(phone_book.keys())\n",
    "print(phone_book.values())\n",
    "print(phone_book.items())  # возвращает объект с ключами и значениями, по которому можно итерироваться"
   ]
  },
  {
   "cell_type": "markdown",
   "metadata": {},
   "source": [
    "Мы можем вывести ключи и соответсвующие им значения с помощью цикла for\n"
   ]
  },
  {
   "cell_type": "code",
   "execution_count": null,
   "metadata": {},
   "outputs": [],
   "source": [
    "# вариант 1\n",
    "for key in phone_book.keys():  # выведем все ключи\n",
    "    print(key, phone_book[key])"
   ]
  },
  {
   "cell_type": "code",
   "execution_count": null,
   "metadata": {},
   "outputs": [],
   "source": [
    "# вариант 2 \n",
    "for key, value in phone_book.items():  # выведем все пары ключ-значение\n",
    "    print(key, value)"
   ]
  },
  {
   "cell_type": "markdown",
   "metadata": {},
   "source": [
    "Добавлять пары ключ-значение в словарь очень просто: это делается по аналогии со заменой значения по индексу в списках.\n",
    "Удаление происходит с помощью функции del.\n",
    "Также можем проверить наличие ключа в словаре.\n"
   ]
  },
  {
   "cell_type": "code",
   "execution_count": null,
   "metadata": {},
   "outputs": [],
   "source": [
    "phone_book['Alex'] = '242-325'\n",
    "phone_book['Tanya'] = '25321-311'  # перезаписываем значение\n",
    "print(phone_book)\n",
    "del phone_book['Oleg']\n",
    "print(phone_book)\n",
    "print('Oleg' in phone_book.keys())"
   ]
  },
  {
   "cell_type": "markdown",
   "metadata": {},
   "source": [
    "### Создание словарей с помощью функции zip"
   ]
  },
  {
   "cell_type": "markdown",
   "metadata": {},
   "source": [
    "Функция zip может собрать списки или кортежи одинаковой длины в пары (тройки, четверки...), а потом из этого можно сделать список!\n",
    "Например, у нас есть два списка: один с именами студентов, а другой с их оценками за тест. Давайте сделаем из них словарь."
   ]
  },
  {
   "cell_type": "code",
   "execution_count": null,
   "metadata": {},
   "outputs": [],
   "source": [
    "names = ['Misha', 'Lisa', 'Katya']\n",
    "grades = [4, 5, 3]\n",
    "print(tuple(zip(names, grades)))\n",
    "print(dict(tuple(zip(names, grades))))"
   ]
  },
  {
   "cell_type": "markdown",
   "metadata": {},
   "source": [
    "# Упражнения на методы списков"
   ]
  },
  {
   "cell_type": "markdown",
   "metadata": {},
   "source": [
    "## Задание 1\n",
    "Напишите программу, которая удаляет дубликаты из списка.\n",
    "\n",
    "## Задание 2\n",
    "Напишите программу, которая в каждом подлисте находит максмум и суммирует их."
   ]
  },
  {
   "cell_type": "code",
   "execution_count": null,
   "metadata": {},
   "outputs": [],
   "source": [
    "# Решение 1"
   ]
  },
  {
   "cell_type": "code",
   "execution_count": null,
   "metadata": {},
   "outputs": [],
   "source": [
    "# Решение 2"
   ]
  },
  {
   "cell_type": "markdown",
   "metadata": {},
   "source": [
    "## Решения"
   ]
  },
  {
   "cell_type": "code",
   "execution_count": null,
   "metadata": {},
   "outputs": [],
   "source": [
    "# Задание 1\n",
    "test_list = [2, 3, 6, 8, 19, 21, 22, 3, 3, 5, 20, 21]\n",
    "new_list = []  # создаем пустой спиской\n",
    "for item in test_list:\n",
    "    if item not in new_list:\n",
    "        new_list.append(item)  # если элемент еще не в списке, то добавляем его\n",
    "print(new_list)"
   ]
  },
  {
   "cell_type": "code",
   "execution_count": null,
   "metadata": {},
   "outputs": [],
   "source": [
    "# Задание 1 (удаляем дубликат с помощью метода pop и кладем его в новый список)\n",
    "test_list = [2, 3, 6, 8, 19, 21, 22, 3, 3, 5, 20, 21]\n",
    "\n",
    "for x in range(test_list):\n",
    "    x.pop"
   ]
  },
  {
   "cell_type": "code",
   "execution_count": null,
   "metadata": {},
   "outputs": [],
   "source": [
    "# Задание 5\n",
    "sum = 0\n",
    "test_list = [[1,2,3], [4,5,6], [10,11,12], [7,8,9]]\n",
    "for list in test_list:  # итерируемся по элементам большого списка\n",
    "    max = 0\n",
    "    for element in list:  # итерируемся по элементам каждого вложенного списка\n",
    "        if element > max:\n",
    "            max = element\n",
    "    sum += max\n",
    "\n",
    "print(sum)"
   ]
  },
  {
   "cell_type": "markdown",
   "metadata": {},
   "source": [
    "### Пример использования .pop()\n",
    "Есть список x. Нужно посчитать количество нечетных элементов. .pop() дает возможность одновременно удалить элемент (список занимает меньше места в памяти, и использовать его в переменной)."
   ]
  },
  {
   "cell_type": "code",
   "execution_count": 5,
   "metadata": {},
   "outputs": [
    {
     "name": "stdout",
     "output_type": "stream",
     "text": [
      "4\n"
     ]
    }
   ],
   "source": [
    "x = [1,2,3,4,5,6,7]\n",
    "odd = 0\n",
    "while len(x) > 0:\n",
    "    if x.pop(-1) % 2:\n",
    "        odd += 1\n",
    "\n",
    "print(odd)\n",
    "    "
   ]
  },
  {
   "cell_type": "markdown",
   "metadata": {},
   "source": [
    "# Упражнение на работу со словарями\n",
    "\n",
    "## Задание 1\n",
    "\n",
    "Файл mbox.txt содержит метаданные почтового сервера.\n",
    "Мы знаем, что строка с адресом автора письма начинается с \"From \" (посмотрите в самом файле,\n",
    "какие там еще есть варианты). Мы хотим найти адреса всех авторов сообщений и найти того из них, кто пишет\n",
    "больше всех писем."
   ]
  },
  {
   "cell_type": "code",
   "execution_count": 8,
   "metadata": {},
   "outputs": [],
   "source": [
    "# решение 1\n",
    "# импортируем библиотеку для доступа к файлам в интернете\n",
    "import requests\n",
    "# в переменной mbox хранится текст для работы\n",
    "mbox = requests.get('http://www.py4inf.com/code/mbox.txt').text"
   ]
  },
  {
   "cell_type": "markdown",
   "metadata": {},
   "source": [
    "### Решение задания 1"
   ]
  },
  {
   "cell_type": "code",
   "execution_count": 9,
   "metadata": {},
   "outputs": [
    {
     "data": {
      "text/plain": [
       "['From stephen.marquard@uct.ac.za Sat Jan  5 09:14:16 2008',\n",
       " 'Return-Path: <postmaster@collab.sakaiproject.org>',\n",
       " 'Received: from murder (mail.umich.edu [141.211.14.90])',\n",
       " '\\t by frankenstein.mail.umich.edu (Cyrus v2.3.8) with LMTPA;',\n",
       " '\\t Sat, 05 Jan 2008 09:14:16 -0500']"
      ]
     },
     "execution_count": 9,
     "metadata": {},
     "output_type": "execute_result"
    }
   ],
   "source": [
    "# Задание 3\n",
    "# преобразуем наш текст в список, где каждый объект - это новая строка в файле\n",
    "all_lines = mbox.split('\\n')\n",
    "all_lines[:5]"
   ]
  },
  {
   "cell_type": "code",
   "execution_count": 10,
   "metadata": {},
   "outputs": [],
   "source": [
    "# собираем список всех email\n",
    "emails = []\n",
    "for line in all_lines:\n",
    "    if line.startswith('From '):\n",
    "        emails.append(line.split()[1])\n",
    "emails_set = set(emails) # альтернативно считаем слова, создаем множество уникальных почтовых адресов\n",
    "emails_dict = {}\n",
    "for email in emails_set:\n",
    "    emails_dict[email] = emails.count(email) # для каждого почтового адреса считаем, сколько раз он встречается с помощью метода списка\n"
   ]
  },
  {
   "cell_type": "code",
   "execution_count": 11,
   "metadata": {},
   "outputs": [],
   "source": [
    "# напишем функцию, которая сравнивает значения значений в словаре\n",
    "# а теперь сортировка\n",
    "def dict_max_value(x):\n",
    "    # будем считать, что по умолчанию максимульное значение равно одному, потому что в наших словарях\n",
    "    # каждое слово встречается минимум 1 раз\n",
    "    max_value = 1\n",
    "    # значение максимальное ключа мы пока не знаем, поэтому создаем пустую переменную\n",
    "    max_key = None\n",
    "    for key, value in x.items():  # итерируемся по парам ключ-значение\n",
    "        if value > max_value:  # проверяем, больше ли значение, чем максимум\n",
    "            max_key = key  # обновляем ключ, если да\n",
    "            max_value = value  # обновляем значение\n",
    "    if max_value == 1:  # если нет ни одного значения больше одного, давайте выведем эту информацию\n",
    "        print('No max value, all 1')\n",
    "    else:\n",
    "        print('Max value is', max_value, 'for', max_key)"
   ]
  },
  {
   "cell_type": "code",
   "execution_count": 12,
   "metadata": {},
   "outputs": [
    {
     "name": "stdout",
     "output_type": "stream",
     "text": [
      "Max value is 195 for zqian@umich.edu\n"
     ]
    }
   ],
   "source": [
    "dict_max_value(emails_dict)"
   ]
  },
  {
   "cell_type": "code",
   "execution_count": null,
   "metadata": {},
   "outputs": [],
   "source": []
  }
 ],
 "metadata": {
  "kernelspec": {
   "display_name": "Python 3 (ipykernel)",
   "language": "python",
   "name": "python3"
  },
  "language_info": {
   "codemirror_mode": {
    "name": "ipython",
    "version": 3
   },
   "file_extension": ".py",
   "mimetype": "text/x-python",
   "name": "python",
   "nbconvert_exporter": "python",
   "pygments_lexer": "ipython3",
   "version": "3.9.9"
  }
 },
 "nbformat": 4,
 "nbformat_minor": 2
}
